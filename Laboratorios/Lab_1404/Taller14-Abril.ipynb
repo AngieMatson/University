{
 "cells": [
  {
   "cell_type": "markdown",
   "id": "actual-radio",
   "metadata": {},
   "source": [
    "# <span style='color:#6bbeb8\"'> TALLER 14 DE ABRIL </span>"
   ]
  },
  {
   "cell_type": "markdown",
   "id": "registered-calvin",
   "metadata": {},
   "source": [
    "**Nombre**: Angie Yulieth Duarte Matson  \n",
    "**ID**: 000455946"
   ]
  },
  {
   "cell_type": "markdown",
   "id": "pacific-capability",
   "metadata": {},
   "source": [
    "### <p style='background :#d0eae8' > OBJETIVOS </p>"
   ]
  },
  {
   "cell_type": "markdown",
   "id": "freelance-flash",
   "metadata": {},
   "source": [
    "+ El estudiante estará en capacidad aplicar los conceptos estudiados en clase sobre el uso de las funciones para resolver problemas con el lenguaje Python.\n",
    "\n",
    "+ El estudiante participará activamente en clase en la solución de los problemas planteados, compartiendo código, explicaciones y opiniones sobre las soluciones propuestas en la clase.\n",
    "\n",
    "+ El estudiante trabajará organizadamente todo su código fuente en su repositorio de GitHub y comentará este código fuente. \n"
   ]
  },
  {
   "cell_type": "markdown",
   "id": "boxed-doubt",
   "metadata": {},
   "source": [
    "**1. Solicitar al usuario que ingrese su dirección de correo electrónico. Imprimir un mensaje indicando si la dirección es válida o no, valiéndose de una función para decidirlo. Una dirección se considerará válida si contiene el símbolo \"@\".**"
   ]
  },
  {
   "cell_type": "code",
   "execution_count": 1,
   "id": "natural-weekly",
   "metadata": {},
   "outputs": [
    {
     "name": "stdout",
     "output_type": "stream",
     "text": [
      "Ingrese el correo de email = angie@hotmail.com\n",
      "Dirección válida\n"
     ]
    }
   ],
   "source": [
    "direccion=input(\"Ingrese el correo de email = \")\n",
    "def validar(direccion):\n",
    "    if direccion.find('@' and ('.com' or '.co')) >= 0: #Utiliza función .find() para validar el email.\n",
    "        print(\"Dirección válida\")\n",
    "    else:\n",
    "        print(\"Dirección inválida\")\n",
    "validar(direccion) #Devuelve que es válida o no dependiendo si cumplen las condiciones anteriores."
   ]
  },
  {
   "cell_type": "markdown",
   "id": "serial-occurrence",
   "metadata": {},
   "source": [
    "**2.Solicitar números al usuario hasta que ingrese el cero. Por cada uno, mostrar la suma de sus dígitos (utilizando una función que realice dicha suma).**"
   ]
  },
  {
   "cell_type": "code",
   "execution_count": 12,
   "id": "common-isolation",
   "metadata": {},
   "outputs": [
    {
     "name": "stdout",
     "output_type": "stream",
     "text": [
      "Ingrese el número a procesar, si desea dejar de ingresar datos escribir el 0: 3\n",
      "La suma total es: 3\n",
      "Número a procesar: 4\n",
      "La suma total es: 4\n",
      "Número a procesar: 2\n",
      "La suma total es: 2\n",
      "Número a procesar: 0\n"
     ]
    }
   ],
   "source": [
    "def sumaDigitos(numero):\n",
    "    suma=0\n",
    "    while numero!=0:\n",
    "        digito=numero%10\n",
    "        suma=suma+digito\n",
    "        numero=numero//10\n",
    "    return suma\n",
    "num=int(input(\"Ingrese el número a procesar, si desea dejar de ingresar datos escribir el 0: \"))\n",
    "while num!=0:\n",
    "    print(\"La suma total es:\",sumaDigitos(num))\n",
    "    num=int(input(\"Número a procesar: \"))"
   ]
  },
  {
   "cell_type": "markdown",
   "id": "naughty-physiology",
   "metadata": {},
   "source": [
    "**3.Solicitar números al usuario hasta que ingrese el cero. Por cada uno, mostrar la suma de sus dígitos. Al finalizar, mostrar la sumatoria de todos los números ingresados y la suma de sus dígitos. Reutilizar la misma función realizada en el ejercicio 2.**"
   ]
  },
  {
   "cell_type": "code",
   "execution_count": 13,
   "id": "instrumental-sheet",
   "metadata": {},
   "outputs": [
    {
     "name": "stdout",
     "output_type": "stream",
     "text": [
      "Ingrese el número a procesar, si desea dejar de ingresar datos escribir el 0: 4\n",
      "La suma total es: 4\n",
      "Número a procesar: 5\n",
      "La suma total es: 5\n",
      "Número a procesar: 2\n",
      "La suma total es: 2\n",
      "Número a procesar: 7\n",
      "La suma total es: 7\n",
      "Número a procesar: 0\n",
      "La sumatoria es: 18\n",
      "Los dígitos son: 9\n"
     ]
    }
   ],
   "source": [
    "def sumaDigitos(numero): \n",
    "    suma=0\n",
    "    while numero!=0:\n",
    "        digito=numero%10\n",
    "        suma=suma+digito\n",
    "        numero=numero//10\n",
    "    return suma\n",
    "\n",
    "sumatoria=0\n",
    "num=int(input(\"Ingrese el número a procesar, si desea dejar de ingresar datos escribir el 0: \"))\n",
    "while num!=0:\n",
    "    print(\"La suma total es:\",sumaDigitos(num))\n",
    "    sumatoria=sumatoria+num\n",
    "    num=int(input(\"Número a procesar: \"))\n",
    "print(\"La sumatoria es:\", sumatoria)\n",
    "print(\"Los dígitos son:\", sumaDigitos(sumatoria))"
   ]
  },
  {
   "cell_type": "markdown",
   "id": "dental-inspector",
   "metadata": {},
   "source": [
    "**4.Solicitar al usuario que ingrese un número entero e informarle si es primo o no, utiliza en el código una función booleana que lo decida.**"
   ]
  },
  {
   "cell_type": "code",
   "execution_count": 2,
   "id": "vulnerable-access",
   "metadata": {},
   "outputs": [
    {
     "name": "stdout",
     "output_type": "stream",
     "text": [
      "Ingrese un número a evaluar: 2\n",
      "El número 2 es primo.\n",
      "¿Quieres agregar otro número? si o no =si\n",
      "Ingrese un número a evaluar: 10\n",
      "El número 10 no es primo.\n",
      "¿Quieres agregar otro número? si o no =si\n",
      "Ingrese un número a evaluar: 17\n",
      "El número 17 es primo.\n",
      "¿Quieres agregar otro número? si o no =no\n",
      "No vuelva :D\n"
     ]
    }
   ],
   "source": [
    "agregar = \"si\"\n",
    "def primo(num):\n",
    "       for i in range(2,num):\n",
    "           if num%i==0:           \n",
    "               return False\n",
    "       return True\n",
    "while agregar == \"si\":\n",
    "    numero=int(input(\"Ingrese un número a evaluar: \"))\n",
    "    if primo(numero):\n",
    "        print(\"El número\" + \" \" + str(numero) + \" es primo.\")\n",
    "    else:\n",
    "        print(\"El número\" + \" \" + str(numero) + \" no es primo.\")\n",
    "    agregar = input(\"¿Quieres agregar otro número? si o no =\")\n",
    "    if agregar == \"no\":\n",
    "        print(\"No vuelva :D\")"
   ]
  },
  {
   "cell_type": "markdown",
   "id": "spectacular-preview",
   "metadata": {},
   "source": [
    "**5.Solicitar al usuario un número entero y luego un dígito. Informar la cantidad de ocurrencias del dígito en el número, utiliza para ello una función que calcule la frecuencia del dígito en el número ingresado.**"
   ]
  },
  {
   "cell_type": "code",
   "execution_count": 1,
   "id": "central-thanks",
   "metadata": {},
   "outputs": [
    {
     "name": "stdout",
     "output_type": "stream",
     "text": [
      "Ingrese un número: 56\n",
      "Ingrese un dígito: 5\n",
      "Frecuencia del dígito en el número: 1\n",
      "¿Quiere ingresar más números a evaluar? si o no = si\n",
      "Ingrese un número: 65\n",
      "Ingrese un dígito: 5\n",
      "Frecuencia del dígito en el número: 1\n",
      "¿Quiere ingresar más números a evaluar? si o no = no\n",
      "¡Se ha finalizado exitosamente el programa!\n"
     ]
    }
   ],
   "source": [
    "agregar = \"si\"\n",
    "def frecuencia(numero,digito):\n",
    "   cantidad=0\n",
    "   while numero!=0:\n",
    "       ultDigito=numero%10\n",
    "       if ultDigito==digito:\n",
    "           cantidad+=1\n",
    "       numero=numero//10\n",
    "   return cantidad\n",
    "while agregar == \"si\":\n",
    "    num=int(input(\"Ingrese un número: \"))\n",
    "    un_digito=int(input(\"Ingrese un dígito: \"))\n",
    "    print(\"Frecuencia del dígito en el número:\",frecuencia(num,un_digito))\n",
    "    agregar = input(\"¿Quiere ingresar más números a evaluar? si o no = \")\n",
    "    if agregar == \"no\":\n",
    "        print(\"¡Se ha finalizado exitosamente el programa!\")"
   ]
  },
  {
   "cell_type": "markdown",
   "id": "mexican-liability",
   "metadata": {},
   "source": [
    "**6.Escribir un programa que pida números al usuario, mostrar la factorial de cada uno y, al finalizar, la cantidad total de números leídos en total. Utilizar una o más funciones, según sea necesario.**"
   ]
  },
  {
   "cell_type": "code",
   "execution_count": 3,
   "id": "based-biodiversity",
   "metadata": {},
   "outputs": [
    {
     "name": "stdout",
     "output_type": "stream",
     "text": [
      "Ingrese un número e ingrese el -1 para dejar de ejecutar: 2\n",
      "El número factorial de 2 es = 2\n",
      "Ingrese un número e ingrese el -1 para dejar de ejecutar: 6\n",
      "El número factorial de 6 es = 720\n",
      "Ingrese un número e ingrese el -1 para dejar de ejecutar: -1\n",
      "Se leyeron 2 números\n"
     ]
    }
   ],
   "source": [
    "def factorial(numero):\n",
    "   f=1\n",
    "   if numero!=0:\n",
    "       for i in range(1,numero+1):\n",
    "           f=f*i\n",
    "   return f\n",
    "cantidad=0\n",
    "num=int(input(\"Ingrese un número e ingrese el -1 para dejar de ejecutar: \"))\n",
    "while num!=-1:\n",
    "    print(\"El número factorial de\" + \" \" + str(num) + \" es = \" + str(factorial(num)))\n",
    "    cantidad+=1\n",
    "    num=int(input(\"Ingrese un número e ingrese el -1 para dejar de ejecutar: \"))\n",
    "print(\"Se leyeron\",cantidad,\"números\")"
   ]
  },
  {
   "cell_type": "markdown",
   "id": "level-fetish",
   "metadata": {},
   "source": [
    "**7.Escribir un programa que pida números positivos al usuario. Mostrar el número cuya sumatoria de dígitos fue mayor y la cantidad de números cuya sumatoria de dígitos fue menor que 10. Utilizar una o más funciones, según sea necesario.**"
   ]
  },
  {
   "cell_type": "code",
   "execution_count": 3,
   "id": "average-cylinder",
   "metadata": {},
   "outputs": [
    {
     "name": "stdout",
     "output_type": "stream",
     "text": [
      "Ingrese un número positivo: 3\n",
      "Sumatoria de dígitos de 3 es = 3\n",
      "Cantidad con sumatoria menor a 10 es = 1\n",
      "¿Desea ingresar otro número? si o no = si\n",
      "Ingrese un número positivo: 4\n",
      "Sumatoria de dígitos de 4 es = 4\n",
      "Cantidad con sumatoria menor a 10 es = 2\n",
      "¿Desea ingresar otro número? si o no = no\n",
      "Se ha terminado de ejecutar correctamente el programa.\n"
     ]
    }
   ],
   "source": [
    "def sumaDigitos(numero):\n",
    "  suma=0\n",
    "  while numero!=0:\n",
    "      digito=numero%10\n",
    "      suma=suma+digito\n",
    "      numero=numero//10\n",
    "  return suma\n",
    "cantidad=0\n",
    "mayor=-1\n",
    "agregar = \"si\"\n",
    "while agregar == \"si\":\n",
    "    numero=int(input(\"Ingrese un número positivo: \"))\n",
    "    if numero>=0:\n",
    "        suma=sumaDigitos(numero)\n",
    "        if suma > mayor:\n",
    "              mayor=suma\n",
    "              n_mayorsuma=numero\n",
    "        if suma < 10:\n",
    "            cantidad+=1\n",
    "        print(\"Sumatoria de dígitos de\",n_mayorsuma,\"es =\",mayor)\n",
    "        print(\"Cantidad con sumatoria menor a 10 es =\",cantidad)\n",
    "        agregar = input(\"¿Desea ingresar otro número? si o no = \")\n",
    "        if agregar == \"no\":\n",
    "            print(\"Se ha terminado de ejecutar correctamente el programa.\")\n",
    "            break\n",
    "    else:\n",
    "        print(\"El número ingresado no puede ser negativo, vuelva a ingresar números.\")\n",
    "        agregar == \"si\""
   ]
  },
  {
   "cell_type": "markdown",
   "id": "drawn-despite",
   "metadata": {},
   "source": [
    "**8.Solicitar al usuario el ingreso de números primos. La lectura finalizará cuando ingrese un número que no sea primo. Por cada número, mostrar la suma de sus dígitos. También solicitar al usuario un dígito e informar la cantidad de veces que aparece en el número (frecuencia). Al finalizar el programa, mostrar el factorial del mayor número ingresado.**"
   ]
  },
  {
   "cell_type": "code",
   "execution_count": 2,
   "id": "indirect-fluid",
   "metadata": {},
   "outputs": [
    {
     "name": "stdout",
     "output_type": "stream",
     "text": [
      "Ingrese un número primo: 2\n",
      "Dígito: 2\n",
      "Suma de los dígitos: 2\n",
      "El 2 aparece 1 veces\n",
      "¿Quiere ingresar otro número? si o no = si\n",
      "Ingrese un número primo: 7\n",
      "Dígito: 7\n",
      "Suma de los dígitos: 7\n",
      "El 7 aparece 1 veces\n",
      "¿Quiere ingresar otro número? si o no = no\n",
      "Factorial de 7 : 5040\n",
      "El programa ha finalizado con éxito\n"
     ]
    }
   ],
   "source": [
    "def primo(num):\n",
    "   for i in range(2,num):\n",
    "       if num%i==0:           \n",
    "           return False\n",
    "   return True\n",
    "\n",
    "def frecuencia(numero,digito):\n",
    "   cantidad=0\n",
    "   while numero!=0:\n",
    "       ultDigito=numero%10\n",
    "       if ultDigito==digito:\n",
    "           cantidad+=1\n",
    "       numero=numero//10\n",
    "   return cantidad\n",
    "\n",
    "def factorial(numero):\n",
    "   f=1\n",
    "   if numero!=0:\n",
    "       for i in range(1,numero+1):\n",
    "           f=f*i\n",
    "   return f\n",
    "\n",
    "def sumaDigitos(numero):\n",
    "  suma=0\n",
    "  while numero!=0:\n",
    "      digito=numero%10\n",
    "      suma=suma+digito\n",
    "      numero=numero//10\n",
    "  return suma\n",
    "\n",
    "mayor=0\n",
    "agregar = \"si\"\n",
    "while agregar == \"si\":\n",
    "    numero=int(input(\"Ingrese un número primo: \"))\n",
    "    while primo(numero):\n",
    "        digito=int(input(\"Dígito: \"))\n",
    "        print(\"Suma de los dígitos:\",sumaDigitos(numero))\n",
    "        print(\"El\",digito,\"aparece\",frecuencia(numero,digito),\"veces\")\n",
    "        if numero > mayor:\n",
    "            mayor=numero\n",
    "        break\n",
    "    else:\n",
    "        print(\"Factorial de\",mayor,\":\",factorial(mayor))\n",
    "        print(\"El últmo número ingresado no es primo.\")\n",
    "        print(\"El programa ha finalizado con éxito\")\n",
    "        break\n",
    "    agregar = input(\"¿Quiere ingresar otro número? si o no = \")\n",
    "    if agregar == \"no\":\n",
    "        print(\"Factorial de\",mayor,\":\",factorial(mayor))\n",
    "        print(\"El programa ha finalizado con éxito.\")\n",
    "        break"
   ]
  },
  {
   "cell_type": "markdown",
   "id": "italic-authorization",
   "metadata": {},
   "source": [
    "**9.Escribir una función que, dado un número de cédula de ciudadanía, retorne True si el número es válido y False si no lo es. Consulta cuál es la longitud válida para cédula en Colombia.**"
   ]
  },
  {
   "cell_type": "code",
   "execution_count": 1,
   "id": "urban-ratio",
   "metadata": {},
   "outputs": [
    {
     "name": "stdout",
     "output_type": "stream",
     "text": [
      "que desea ingresar:\n",
      "    1.Cedula de ciudadania\n",
      "    2.Tarjeta de identidad\n",
      "      = 1\n",
      "Ingrese el número: 91231824\n",
      "El número es valido.\n",
      "¿Quieres volver a ingresar? ¿si o no?= no\n",
      "Vuelve pronto amigo....(saludos desde Bucaramanga y Tibú para el mundo).\n"
     ]
    }
   ],
   "source": [
    "cond=\"si\"\n",
    "def frecuencia(numero):\n",
    "   cantidad=0\n",
    "   while numero!=0:\n",
    "       ultDigito=numero%10\n",
    "       cantidad+=1\n",
    "       numero=numero//10\n",
    "   return cantidad\n",
    "while cond==\"si\":\n",
    "    hi=input(\"\"\"que desea ingresar:\n",
    "    1.Cedula de ciudadania\n",
    "    2.Tarjeta de identidad\n",
    "      = \"\"\")\n",
    "    num=int(input(\"Ingrese el número: \"))\n",
    "    if frecuencia(num)<4 and frecuencia(num)<12:\n",
    "        print(\"el numero  es invalido\")\n",
    "    else:\n",
    "        print(\"El número es valido.\")\n",
    "        cond=\"no\"\n",
    "    cond=input(\"¿Quieres volver a ingresar? ¿si o no?= \")\n",
    "    if cond ==\"no\":\n",
    "        print(\"Vuelve pronto amigo....(saludos desde Bucaramanga y Tibú para el mundo).\")\n",
    "        \n",
    "#En colaboración de Breyner - Tibú"
   ]
  },
  {
   "cell_type": "markdown",
   "id": "norman-genetics",
   "metadata": {},
   "source": [
    "**10.Escribir una función que, dada una cadena, retorne la longitud de la última palabra. Se considera que las palabras están separadas por uno o más espacios. También podría haber espacios al principio o al final del string pasado por parámetro.  Consulta sobre la función len() en Python.**"
   ]
  },
  {
   "cell_type": "code",
   "execution_count": 2,
   "id": "sweet-somewhere",
   "metadata": {},
   "outputs": [
    {
     "name": "stdout",
     "output_type": "stream",
     "text": [
      "Ingrese la cadena o frase = Data science \n",
      "7\n"
     ]
    }
   ],
   "source": [
    "def ultimaPalabra(cadena):\n",
    "   if len(cadena)==0:\n",
    "       return 0\n",
    "   cantidad=0\n",
    "   for i in range(len(cadena)):\n",
    "       if cadena[i]!=' ':\n",
    "           cantidad+=1\n",
    "       else:\n",
    "           if i<len(cadena)-1 and cadena[i+1]!=' ':\n",
    "               cantidad=0\n",
    "   return cantidad\n",
    "cadena = input(\"Ingrese la cadena o frase = \")\n",
    "if ultimaPalabra(cadena):\n",
    "    print(ultimaPalabra(cadena))"
   ]
  }
 ],
 "metadata": {
  "kernelspec": {
   "display_name": "Python 3",
   "language": "python",
   "name": "python3"
  },
  "language_info": {
   "codemirror_mode": {
    "name": "ipython",
    "version": 3
   },
   "file_extension": ".py",
   "mimetype": "text/x-python",
   "name": "python",
   "nbconvert_exporter": "python",
   "pygments_lexer": "ipython3",
   "version": "3.9.1"
  }
 },
 "nbformat": 4,
 "nbformat_minor": 5
}
