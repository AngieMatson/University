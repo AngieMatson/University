{
 "cells": [
  {
   "cell_type": "markdown",
   "metadata": {},
   "source": [
    "# TALLER 30 ABRIL - LÓGICA DE PROGRAMACIÓN"
   ]
  },
  {
   "cell_type": "markdown",
   "metadata": {},
   "source": [
    "Nombre: Angie Yulieth Duarte Matson   \n",
    "ID:000455946"
   ]
  },
  {
   "cell_type": "markdown",
   "metadata": {},
   "source": [
    "**1. Escribe un algoritmo o el respectivo diagrama de flujo para imprimir tu nombre y se le adicione un calificativo ingresado por el usuario. Por ejemplo: Carlos el crack o Juliana la mejor.**"
   ]
  },
  {
   "cell_type": "code",
   "execution_count": null,
   "metadata": {},
   "outputs": [],
   "source": [
    "# Programa imprima el nombre y su calificativo o apodo ingresado por el ususario\n",
    "#Definir variables\n",
    "nombre = input(\"Escribe tu nombre = \")\n",
    "apodo = input(\"Ingrese el apodo o calificativo del nombre anterior = \")\n",
    "#Imprimir \n",
    "print(nombre + \" \" + apodo)"
   ]
  },
  {
   "cell_type": "markdown",
   "metadata": {},
   "source": [
    "**2. Escribe un algoritmo o el respectivo diagrama de flujo para imprimir el cuadrado de un número dado.**"
   ]
  },
  {
   "cell_type": "code",
   "execution_count": null,
   "metadata": {},
   "outputs": [],
   "source": [
    "# Programa para hallar el cuadrado de un número ingresado por el usuario\n",
    "#Definir variables\n",
    "number = float(input(\"Ingrese el número al que desea hallarle el cuadrado = \"))\n",
    "#Proceso\n",
    "result = pow(number,2)\n",
    "#Imprimir\n",
    "print(\"El resultado de \" + str(number) + \" al cuadrado es = \", result)"
   ]
  },
  {
   "cell_type": "markdown",
   "metadata": {},
   "source": [
    "**3. Escribe un algoritmo o el respectivo diagrama de flujo para imprimir la suma de dos números dados.**"
   ]
  },
  {
   "cell_type": "code",
   "execution_count": null,
   "metadata": {},
   "outputs": [],
   "source": [
    "# Programa imprima resultado suma de dos números\n",
    "#Definir variables\n",
    "number1 = float(input(\"Ingrese el primer número = \"))\n",
    "number2 = float(input(\"Ingrese el segundo número = \"))\n",
    "#Proceso\n",
    "suma = number1 + number2\n",
    "#Imprimir\n",
    "print(\"El resultado de la suma es = \", suma)"
   ]
  },
  {
   "cell_type": "markdown",
   "metadata": {},
   "source": [
    "**4. Escribe un algoritmo o el respectivo diagrama de flujo para imprimir la suma, resta, multiplicación, división y residuo de dos números dados.**"
   ]
  },
  {
   "cell_type": "code",
   "execution_count": null,
   "metadata": {},
   "outputs": [],
   "source": [
    "#Programa que de por pantalla suma, resta, multiplicación, divisón de dos números ingresados por el usuario\n",
    "#Definir variables\n",
    "number1 = float(input(\"Ingrese el primer número = \") )\n",
    "number2 = float(input(\"Ingrese el segundo número = \"))\n",
    "#Procesos\n",
    "def calculadora(number1,number2):\n",
    "    print(\"El resultado de la suma es = \" + str(number1 + number2) + \"\\n\")\n",
    "    print(\"El resultado de la resta es = \" + str(number1 - number2) + \"\\n\")\n",
    "    print(\"El resultado de la multiplicación es = \" + str(number1 * number2) +\"\\n\")\n",
    "    print(\"El resultado de la división es = \" + str(number1 / number2) + \"\\n\")\n",
    "    print(\"El resultado del módulo es = \" + str(number1 % number2) + \"\\n\")\n",
    "calculadora(number1,number2) "
   ]
  },
  {
   "cell_type": "markdown",
   "metadata": {},
   "source": [
    "**5. Escribe un algoritmo o el respectivo diagrama de flujo que lea un número decimal e imprima su parte entera y su parte decimal por aparte.**"
   ]
  },
  {
   "cell_type": "code",
   "execution_count": null,
   "metadata": {},
   "outputs": [],
   "source": [
    "#Programa que imprima la parte entera y decimal por aparte de un número ingresado por el usuario\n",
    "#Definir variables\n",
    "decimal = float(input(\"Ingrese un número decimal = \"))\n",
    "print()\n",
    "#Proceso separar parte entera\n",
    "entero = int(decimal)\n",
    "print(\"La parte entera es = \" + str(entero) + \"\\n\")\n",
    "#Proceso para separar la parte decimal de la entera\n",
    "decimal2 = float(entero - decimal)\n",
    "print(\"La parte decimal es = \" + str(decimal2) + \"\\n\")"
   ]
  },
  {
   "cell_type": "markdown",
   "metadata": {},
   "source": [
    "**6. Escribe un algoritmo o el respectivo diagrama de flujo que lea las cinco notas obtenidas por un estudiante y calcule su nota final, sabiendo que las cada nota tiene el siguiente valor: n1 (15%), n2 (20%), n3 (15%), n4(30%), n5 (20%).**"
   ]
  },
  {
   "cell_type": "code",
   "execution_count": null,
   "metadata": {},
   "outputs": [],
   "source": [
    "#Programa que calcule las notas de un estudiante\n",
    "#Cada nota tiene un porcentaje difetente\n",
    "rpta = \"true\"\n",
    "while rpta == \"true\":\n",
    "    #Se piden los valores\n",
    "    nota1 = float(input(\"Ingrese el valor de la primera nota = \"))\n",
    "    nota2 = float(input(\"Ingrese el valor de la segunda nota = \"))\n",
    "    nota3 = float(input(\"Ingrese el valor de la tercera nota = \"))\n",
    "    nota4 = float(input(\"Ingrese el valor de la cuarta nota = \"))\n",
    "    nota5 = float(input(\"Ingrese el valor de la quinta nota = \"))\n",
    "    #Se establece una condición para que se ejecute apropiadamente \n",
    "    if (nota1 and nota2 and nota3 and nota4 and nota5 <= 5) and (nota1 and nota2 and nota3 and nota4 and nota5 >= 0):\n",
    "        promedio = (nota1*0.15) + (nota2*0.2) + (nota3*0.15) + (nota4*0.3)+ (nota5*0.2) \n",
    "        print(\"El promedio de notas es = \", promedio)\n",
    "        #Condición para determinar sí aprobó o perdió\n",
    "        if promedio > 3:\n",
    "            print(\"¡APROBÓ! :D \")\n",
    "        else:\n",
    "            print(\"PERDIÓ :c\")\n",
    "        rpta = str(input(\"¿Quieres ingresar más notas?, true or false = \"))\n",
    "    else:\n",
    "        print(\"Lo números ingresados no son válidos, no se pueden ingresar números mayores a 5 o menores que 0. Vuelva a ingresar las notas.\")\n",
    "        continue\n",
    "#IMPRIMIR\n",
    "print(\"¡El programa se ha terminado de ejecutar con éxito!\")\n"
   ]
  },
  {
   "cell_type": "markdown",
   "metadata": {},
   "source": [
    "**7. Escribe un algoritmo o el respectivo diagrama de flujo que determine el IVA (19%) de una venta realizada, indicando el valor original, el valor del IVA y el valor de la venta con IVA incluido.**"
   ]
  },
  {
   "cell_type": "code",
   "execution_count": null,
   "metadata": {},
   "outputs": [],
   "source": [
    "#Definir variables, contadores\n",
    "mas = \"true\"\n",
    "suma = 0\n",
    "total = 0\n",
    "totalIVA = 0\n",
    "#Procesos\n",
    "while mas == \"true\":\n",
    "    nombreProducto = str(input(\"Ingrese el nombre del producto = \"))\n",
    "    producto = float(input(\"Ingrese el valor del producto = $ \"))\n",
    "    suma = suma + producto\n",
    "    total = suma\n",
    "    totalIVA = (total * 0.19) + total\n",
    "    mas = str(input(\"¿Quieres ingresar más productos?, true o false = \"))\n",
    "    print()\n",
    "#Imprimir\n",
    "print(\"El total original de la compra es = \" + str(total)  + \"\\n\")\n",
    "print(\"El valor del IVA = 19%\" + \"\\n\")\n",
    "print(\"El valor total de la compra con IVA es = \" + str(totalIVA) + \"\\n\")"
   ]
  },
  {
   "cell_type": "markdown",
   "metadata": {},
   "source": [
    "**8. Escribe un algoritmo o el respectivo diagrama de flujo que imprima el área y el perímetro de un círculo.**"
   ]
  },
  {
   "cell_type": "code",
   "execution_count": null,
   "metadata": {},
   "outputs": [],
   "source": [
    "#Definir variables y constantes\n",
    "Pi = 3.1416\n",
    "radio = float(input(\"Ingrese el valor del radio del área = \"))\n",
    "#PROCESOS\n",
    "areaCirculo = Pi * pow(radio, 2)\n",
    "print(\"El área del círculo es = \" + str(areaCirculo) + \"\\n\")\n",
    "#Condiciones para hallar el perímetro con las dos fórmulas\n",
    "perimetro = str(input(\"¿Quieres hallar el perímetro con el diámetro o con el radio?, 1 o 2 = \"))\n",
    "if perimetro == \"1\":\n",
    "    perimetroRadio = 2 * Pi * radio\n",
    "    print(\"El perímetro del círculo es = \" + str(perimetroRadio) + \"\\n\")\n",
    "else:\n",
    "    diametro = float(input(\"Ingrese el valor del diámetro = \"))\n",
    "    perimetroDiametro = Pi * (diametro/2)\n",
    "    print(\"El perímetro del círculo es = \" + str(perimetroDiametro) + \"\\n\")\n",
    "print(\"¡El programa ha finalizado con éxito!\")"
   ]
  },
  {
   "cell_type": "markdown",
   "metadata": {},
   "source": [
    "**9. Escribe un algoritmo o el respectivo diagrama de flujo que calcule el área de un hexágono.**"
   ]
  },
  {
   "cell_type": "code",
   "execution_count": null,
   "metadata": {},
   "outputs": [],
   "source": [
    "#if preguntaInicial == 1:\n",
    "    #Definir variabñe\n",
    "medidaLado = float(input(\"Ingrese el valor de uno de los lados del hexágono = \"))\n",
    "apotema = float(input(\"Ingrese el valor de la apotema del hexágono = \"))\n",
    "    #Proceso\n",
    "perimetro = medidaLado * 6\n",
    "hexaRegular = perimetro  * apotema / 2\n",
    "print(\"El área del hexágono regular es = \" + str(hexaRegular) + \"\\n\")"
   ]
  },
  {
   "cell_type": "markdown",
   "metadata": {},
   "source": [
    "**10. Escribe un algoritmo o el respectivo diagrama de flujo que dados tres números calcule el promedio de dichos números.**"
   ]
  },
  {
   "cell_type": "code",
   "execution_count": null,
   "metadata": {},
   "outputs": [],
   "source": [
    "#Definir varaibles\n",
    "number1 = float(input(\"Ingrese el valor del primer número = \"))\n",
    "number2 = float(input(\"Ingrese el valor del segundo número = \"))\n",
    "number3 = float(input(\"Ingrese el valor del tercer número = \"))\n",
    "#Proceso\n",
    "promedio = (number1 + number2 + number3) / 3\n",
    "print(\"El promedio de las notas ingresadas es = \",promedio)"
   ]
  },
  {
   "cell_type": "markdown",
   "metadata": {},
   "source": [
    "**11.\tEscribe un algoritmo o el respectivo diagrama de flujo que intercambie el valor de dos variables e imprima los valores antes y después del intercambio. Por ejemplo, si a = 1 y b = 3, al intercambiar sus valores serán a = 3 y b = 1.**"
   ]
  },
  {
   "cell_type": "code",
   "execution_count": null,
   "metadata": {},
   "outputs": [],
   "source": [
    "#Definir variables\n",
    "a = float(input(\"Ingrese el primer número de a = \"))\n",
    "b = float(input(\"Ingrese el segundo número de b = \"))\n",
    "#Procesos\n",
    "a, b = b, a\n",
    "#Imprimir\n",
    "print(\"El nuevo valor de a es = \",a)\n",
    "print(\"El nuevo valor de b es = \",b)"
   ]
  },
  {
   "cell_type": "markdown",
   "metadata": {},
   "source": [
    "**12.\tEscribe un algoritmo o el respectivo diagrama de flujo que determine el tiempo de caída de un objeto que se suelta desde una altura h.**"
   ]
  },
  {
   "cell_type": "code",
   "execution_count": null,
   "metadata": {},
   "outputs": [],
   "source": [
    "gravedad = 10\n",
    "pregunta = str(input(\"¿Quieres hallar el tiempo de caída del objeto con velocidad(v) o con altura(h)?, v o h = \"))\n",
    "#Condiciones para aplicar la dos fórmulas\n",
    "if pregunta == \"h\":\n",
    "    altura = float(input(\"Ingrese el valor de la altura = \"))\n",
    "    tiempoH = (((2 * altura) / gravedad)**(0.5))\n",
    "    print(\"El tiempo de caída del objeto es = \" + str(tiempoH) + \" [segundos]\" + \"\\n\")\n",
    "else:\n",
    "    if pregunta == \"v\":\n",
    "        vFinal = float(input(\"Ingrese el valor de la velocidad final = \"))\n",
    "        vInicial = float(input(\"Ingrese el valor de la velocidad Inicial = \"))\n",
    "        tiempo = (vFinal - vInicial) / gravedad\n",
    "        print(\"El tiempo de caída del objeto es = \" + str(tiempo) + \" [segundos]\" + \"\\n\" )"
   ]
  },
  {
   "cell_type": "markdown",
   "metadata": {},
   "source": [
    "**13.\tEscribe un algoritmo o el respectivo diagrama de flujo que determine la distancia recorrida por un objeto luego de una cantidad de tiempo, si se sabe que va en línea recta y además se conoce su aceleración y su velocidad.**"
   ]
  },
  {
   "cell_type": "code",
   "execution_count": null,
   "metadata": {},
   "outputs": [],
   "source": [
    "#Definir variables\n",
    "pregunta = str(input(\"¿Quieres hallar la distancia recorrida de un objeto? si o no = \"))\n",
    "if pregunta == \"si\":\n",
    "    tiempo = float(input(\"Ingrese el valor del tiempo en hora = \"))\n",
    "    aceleracion = float(input(\"Ingrese el valor de la aceleración = \"))\n",
    "    velocidad = float(input(\"Ingrese el valor de la velocidad = \"))\n",
    "    #Proceso\n",
    "    distancia = (velocidad * tiempo) + 1/2 *(aceleracion*pow(tiempo, 2))\n",
    "    #IMPRIMIR\n",
    "    print()\n",
    "    print(\"La distancia recorrida por el objeto es = \" + str(distancia) + \" [m]\" )\n",
    "    print(\"¡El programa se ha terminado de ejecutar con éxito!\")\n",
    "else:\n",
    "    print(\"Finish!!\")"
   ]
  },
  {
   "cell_type": "markdown",
   "metadata": {},
   "source": [
    "**14.\tEscribe un algoritmo o el respectivo diagrama de flujo que determine la velocidad final de un objeto luego de un tiempo, si se sabe que va en línea recta y además se conoce su aceleración.**"
   ]
  },
  {
   "cell_type": "code",
   "execution_count": null,
   "metadata": {},
   "outputs": [],
   "source": [
    "pregunta = str(input(\"¿Quieres hallar la velocidad final de un objeto? si o no = \"))\n",
    "if pregunta == \"si\":\n",
    "    velocidadInicial = float(input(\"Ingrese el valor de la velocidad inicial = \"))\n",
    "    aceleracion = float(input(\"Ingrese el valor de la aceleración = \"))\n",
    "    tiempo = float(input(\"Ingrese el valor del tiempo en segundos = \"))\n",
    "    #PROCESOS\n",
    "    velocidadFinal = velocidadInicial + (aceleracion * tiempo)\n",
    "    print(\"La velocidad final del objeto es = \", velocidadFinal)\n",
    "    print(\"¡El programa se ha terminado de ejecutar con éxito!\")\n",
    "else:\n",
    "    print(\"Finish!!\")"
   ]
  },
  {
   "cell_type": "markdown",
   "metadata": {},
   "source": [
    "**15.\tEscribe un algoritmo o el respectivo diagrama de flujo que determine la energía (en Julios) de un objeto si se conoce la masa de un objeto (en kg) y la velocidad de la luz (en m/s).**"
   ]
  },
  {
   "cell_type": "code",
   "execution_count": null,
   "metadata": {},
   "outputs": [],
   "source": [
    "pregunta = str(input(\"¿Quieres hallar la energía de un objeto? si o no = \"))\n",
    "if pregunta == \"si\":\n",
    "    # Variables y constantes\n",
    "    masa = float(input(\"Ingres el valor de la masa del objeto en kg = \"))\n",
    "    velocidadLuz = 299792.458 \n",
    "    #Procesos\n",
    "    energia = masa * (pow(velocidadLuz, 2))\n",
    "    print(\"La energía del objeto es = \" + str(energia) + \" Julios [J]\")\n",
    "    print(\"¡El programa se ha terminado de ejecutar con éxito!\")\n",
    "else:\n",
    "    print(\"Finish!!!\")"
   ]
  },
  {
   "cell_type": "markdown",
   "metadata": {},
   "source": [
    "**16.\tEscribe un algoritmo o el respectivo diagrama de flujo que dadas coordenadas x1,y1 y x2,y2 en el plano cartesiano calcule la distancia entre ellos (considere todos los valores positivos).**"
   ]
  },
  {
   "cell_type": "code",
   "execution_count": null,
   "metadata": {},
   "outputs": [],
   "source": [
    "mas = \"true\"\n",
    "x1 = 0\n",
    "x2 = 0\n",
    "y1 = 0\n",
    "y2 = 0\n",
    "while mas == \"true\":\n",
    "    if mas == \"true\":\n",
    "        x1 = float(input(\"Ingrese el valor de x1 = \"))\n",
    "        y1 = float(input(\"Ingrese el valor de y1 = \"))\n",
    "        x2 = float(input(\"Ingrese el valor de x2 = \"))\n",
    "        y2 = float(input(\"Ingrese el valor de y2 = \"))\n",
    "        #PROCESO\n",
    "        d = (pow(x2 - x1, 2) + pow(y2 - y1, 2))**(0.5)\n",
    "        print(\"La distancia entre los puntos es = \" + str(d) + \"\\n\")\n",
    "        mas = str(input(\"¿Quieres seguir calculando la distancia entre dos puntos? true o false = \"))\n",
    "\n",
    "print(\"¡El programa ha finalizado con éxito!\")"
   ]
  },
  {
   "cell_type": "markdown",
   "metadata": {},
   "source": [
    "**17. Escribe un algoritmo o el respectivo diagrama de flujo que dada una cantidad de segundos indique cuántas horas representan.**"
   ]
  },
  {
   "cell_type": "code",
   "execution_count": null,
   "metadata": {},
   "outputs": [],
   "source": [
    "#Definir varibles y constantes\n",
    "segundos = float(input(\"Ingrese la cantidad de segundos que desea convertir = \"))\n",
    "segundosHora = 3600\n",
    "#Procesos\n",
    "hora = segundos / segundosHora\n",
    "print(\"Las horas correspondientes al valor ingresado son = \" + str(hora) + \" horas\")"
   ]
  },
  {
   "cell_type": "markdown",
   "metadata": {},
   "source": [
    "**18.\tEscribe un algoritmo o el respectivo diagrama de flujo que dada una cantidad de segundos indique cuántos minutos representan.**"
   ]
  },
  {
   "cell_type": "code",
   "execution_count": null,
   "metadata": {},
   "outputs": [],
   "source": [
    "#Variables y constantes\n",
    "segundos = float(input(\"Ingrese la cantidad de segundos que desea convertir = \"))\n",
    "segundosMinuto = 60.0\n",
    "#Procesos\n",
    "minutos = segundos / segundosMinuto\n",
    "print(\"Los minutos correspondientes al valor ingresado son = \" + str(minutos) + \" minutos\")"
   ]
  },
  {
   "cell_type": "markdown",
   "metadata": {},
   "source": [
    "**19.\tEscribe un algoritmo o el respectivo diagrama de flujo que dada una cantidad de segundos indique cuántos horas minutos y segundos representan. Por ejemplo si el valor es 86399, imprimirá el siguiente resultado -->  23:59:59.**"
   ]
  },
  {
   "cell_type": "code",
   "execution_count": null,
   "metadata": {},
   "outputs": [],
   "source": [
    "#Definir variables y constantes\n",
    "valor = int(input(\"Ingrese el valor que desea convertir = \"))\n",
    "segundosHora = 3600\n",
    "segundosMinutos = 60\n",
    "#Proceso\n",
    "hora = int(valor / segundosHora)\n",
    "minutos = int((valor - (hora*segundosHora)) / 60)\n",
    "segundos = valor - ((hora * 3600) + (minutos*60))\n",
    "print(\"La hora exacta es = \" + str(hora) + \":\" + str(minutos) + \":\" + str(segundos))"
   ]
  },
  {
   "cell_type": "markdown",
   "metadata": {},
   "source": [
    "**20.\tEscribe un algoritmo o el respectivo diagrama de flujo que, dada una cantidad de dinero, determine la menor cantidad de billetes de cada denominación que se puede entregar.**"
   ]
  },
  {
   "cell_type": "code",
   "execution_count": null,
   "metadata": {},
   "outputs": [],
   "source": [
    "# Definir variables, acumuladores\n",
    "valor = 0\n",
    "cien = 0\n",
    "cincuenta = 0\n",
    "veinte = 0\n",
    "diez = 0\n",
    "cinco = 0\n",
    "mil = 0\n",
    "#Proceso\n",
    "valor = int(input(\"Ingrese la cantidad de dinero = \"))\n",
    "if valor >= 1:\n",
    "    # Billete 100.000\n",
    "    cien = int(valor / 100000)\n",
    "    reserva = valor % 100000\n",
    "    #Billete 50.000\n",
    "    cincuenta = int(reserva / 50000)\n",
    "    reserva = reserva % 50000\n",
    "    #Billete 20.000\n",
    "    veinte = int(reserva / 20000)\n",
    "    reserva = reserva % 20000\n",
    "    #Billete 10.000\n",
    "    diez = int(reserva / 10000)\n",
    "    reserva = reserva % 10000\n",
    "    #Billete 5.000\n",
    "    cinco = int(reserva / 5000)\n",
    "    reserva = reserva % 5000\n",
    "    #Billete 1.000\n",
    "    mil = int(reserva / 1000)\n",
    "    reserva = reserva % 1000\n",
    "    #IMPRIMIR\n",
    "    print(\"La cantidad mínima de cada billete son:\")\n",
    "    print(str(cien) + \" de 100.000\" + \"\\n\"+ str(cincuenta) + \" de 50.000\" + \"\\n\" + str(veinte) + \" de 20.000\" + \"\\n\" + str(diez) + \" de 10.000\" + \"\\n\" + str(cinco) + \" de 5.000\" + \"\\n\" + str(mil)+ \" de 1.000\" )\n",
    "else:\n",
    "    print(\"La cantidad de billetes ingresados es incorrecta, no se permiten valores negativos.\")"
   ]
  },
  {
   "cell_type": "markdown",
   "metadata": {},
   "source": [
    "**21.\tEscribe un algoritmo o el respectivo diagrama de flujo que, dada un numero de 4 cifras, reordene sus dígitos de manera inversa. Por ejemplo 3245 ---> 5423.**"
   ]
  },
  {
   "cell_type": "code",
   "execution_count": null,
   "metadata": {},
   "outputs": [],
   "source": [
    "mas = \"true\"\n",
    "#Proceso\n",
    "while mas == \"true\":\n",
    "    numero = int(input(\"Ingrese un número de 4 cifras = \"))\n",
    "    if (numero >= 1000) and (numero <= 9999):\n",
    "        #El módulo se usa para poder tener la última cifra\n",
    "        n4 = numero % 10\n",
    "        n3 = int((numero % 100) / 10)\n",
    "        n2 = int((numero % 1000 / 100))\n",
    "        n1 = int((numero - (numero % 1000)) / 1000)\n",
    "        print(\"El número inverso es = \" + str(n4) + str(n3) + str(n2) + str(n1) + \"\\n\")\n",
    "        mas = str(input(\"¿Quieres ingresar más números? true o false = \"))\n",
    "    else:\n",
    "        print(\"Número ingresado es menor o mayor a un número de 4 cifras\" + \"\\n\")\n",
    "print(\"¡El programa ha finalizado con éxito!\" + \"\\n\")"
   ]
  },
  {
   "cell_type": "markdown",
   "metadata": {},
   "source": [
    "**22.\tEscribe un algoritmo o el respectivo diagrama de flujo que lea un número y determine si es par o impar.**"
   ]
  },
  {
   "cell_type": "code",
   "execution_count": null,
   "metadata": {},
   "outputs": [],
   "source": [
    "agregar = \"true\"\n",
    "while agregar == \"true\":\n",
    "    numero = int(input(\"Ingrese un número = \"))\n",
    "    if numero > 0:\n",
    "        if numero % 2 == 0:\n",
    "            print(\"El número\" + \" \" + str(numero) + \" \" + \"es par.\" + \"\\n\")\n",
    "        else:\n",
    "            if numero % 2 != 0:\n",
    "                print(\"El número\" + \" \" + str(numero) + \" \" + \"es impar.\" + \"\\n\")\n",
    "        agregar = str(input(\"¿Quieres ingresar otro número? true o false = \"))\n",
    "    else:\n",
    "        print(\"El número ingresado es negativo, no se permiten número negativos.\" + \"\\n\")\n",
    "print(\"¡El programa ha finalizado con éxito!\" + \"\\n\")"
   ]
  },
  {
   "cell_type": "markdown",
   "metadata": {},
   "source": [
    "**23. Escribe un algoritmo o el respectivo diagrama de flujo que lea un número y determine si es positivo o negativo.**"
   ]
  },
  {
   "cell_type": "code",
   "execution_count": null,
   "metadata": {},
   "outputs": [],
   "source": [
    "#Definir variables\n",
    "number = int(input(\"Ingrese un número = \"))\n",
    "print()\n",
    "#Proceso\n",
    "if number > 0:\n",
    "    print(\"El número\" + \" \" + str(number) + \" \" + \"es positivo.\" + \"\\n\")\n",
    "else:\n",
    "    if number <0:\n",
    "        print(\"El número\" + \" \" + str(number) + \" \" + \"Es negativo.\" + \"\\n\" )\n",
    "print(\"¡El programa ha finalizado con éxito!\" + \"\\n\")"
   ]
  },
  {
   "cell_type": "markdown",
   "metadata": {},
   "source": [
    "**24. Escribe un algoritmo o el respectivo diagrama de flujo que lea un número e indique si este es par-positivo, par-negativo, impar-positivo o impar-negativo.**"
   ]
  },
  {
   "cell_type": "code",
   "execution_count": null,
   "metadata": {},
   "outputs": [],
   "source": [
    "number = int(input(\"Ingrese un número = \"))\n",
    "if ( number >= 0) and (number % 2 == 0):\n",
    "    print(\"El número\" + \" \" + str(number) + \" \" + \"es positivo y par.\" + \"\\n\")\n",
    "else:\n",
    "    if (number < 0) and (number % 2 == 0):\n",
    "        print(\"El número\" + \" \" + str(number) + \" \" + \"es negativo y par.\" + \"\\n\")\n",
    "    else:\n",
    "        if (number >= 0) and (number % 2 != 0):\n",
    "            print(\"El número\" + \" \" + str(number) + \" \" + \"es positivo e impar.\" + \"\\n\")\n",
    "        else:\n",
    "            if (number < 0) and (number % 2 != 0):\n",
    "                print(\"El número\" + \" \" + str(number) + \" \" + \"es negativo e impar.\" + \"\\n\")\n",
    "print(\"¡El programa ha finalizado con éxito!\" + \"\\n\")"
   ]
  },
  {
   "cell_type": "markdown",
   "metadata": {},
   "source": [
    "**25.\tEscribe un algoritmo o el respectivo diagrama de flujo que determine el IVA (19%) de una venta, si esta es mayor a 150.000 aplicar un descuento del 5%**"
   ]
  },
  {
   "cell_type": "code",
   "execution_count": null,
   "metadata": {},
   "outputs": [],
   "source": [
    "agregar = \"si\"\n",
    "suma = 0\n",
    "total = 0\n",
    "totalIva = 0\n",
    "totalIva2 = 0\n",
    "#Proceso\n",
    "while agregar == \"si\":\n",
    "    valorProducto = int(input(\"Ingrese el valor del producto = \"))\n",
    "    if valorProducto > 0:\n",
    "        if valorProducto >0:\n",
    "            suma = suma + valorProducto\n",
    "            total = suma\n",
    "            totalIva = (suma * 0.19) + suma\n",
    "            agregar = str(input(\"¿Quieres agregar más productos? si o no = \"))\n",
    "        if agregar == \"no\":\n",
    "            print(\"El valor de su compra es = \" + str(totalIva) + \"\\n\")\n",
    "        elif totalIva >=  150000:\n",
    "            totalIva2 = totalIva - (totalIva * 0.05)\n",
    "            print(\"El valor de su compra sin descuento es\" + \" \" + str(totalIva) + \" y \" + \"el valor totaal de la compra con el descuento del 5% es = \" + str(totalIva2) + \"\\n\")\n",
    "    else:\n",
    "        print(\"Valor incorrecto, no se permiten número negativos.\")"
   ]
  },
  {
   "cell_type": "markdown",
   "metadata": {},
   "source": [
    "**26.\tEscribe un algoritmo o el respectivo diagrama de flujo que lea un número y si este es mayor o igual a 10 devuelva el triple de este, de lo contrario la cuarta parte de este.**"
   ]
  },
  {
   "cell_type": "code",
   "execution_count": null,
   "metadata": {},
   "outputs": [],
   "source": [
    "#Definir variables\n",
    "number = int(input(\"Ingrese un número = \"))\n",
    "#Proceso\n",
    "if number >= 10:\n",
    "    total = number * 3\n",
    "    print(\"El resultado de\" + \" \" + str(number) + \" \" + \"al triple es = \" + str(total))\n",
    "else:\n",
    "    total = number / 4\n",
    "    print(\"El resultado de la cuarta parte de\" + \" \" + str(number) + \" \" + \"es = \" + str(total))"
   ]
  },
  {
   "cell_type": "markdown",
   "metadata": {},
   "source": [
    "**27.\tEscribe un algoritmo o el respectivo diagrama de flujo que lea las cinco notas obtenidas por un estudiante y calcule su nota final, sabiendo que las cada nota tiene el siguiente valor: n1 (15%), n2 (20%), n3 (15%), n4 (30%), n5 (20%). Si la nota obtenida es menor a 2,0 deberá indicarle al estudiante que no puede habilitar, si la nota obtenida es menor a 3 deberá indicar que reprobó, si la nota es mayor o igual a 3 deberá indicar que aprobó y si es mayor a 4,5 extenderá un mensaje de felicitación al estudiante.**"
   ]
  },
  {
   "cell_type": "code",
   "execution_count": null,
   "metadata": {},
   "outputs": [],
   "source": [
    "#Definir variables, constantes, acumuladores y lógicos\n",
    "contador = 1\n",
    "promedio = 0\n",
    "p1 = 0.15\n",
    "p2 = 0.2\n",
    "p3 = 0.15\n",
    "p4 = 0.3\n",
    "p5 = 0.2\n",
    "while contador <= 5 :\n",
    "    nota = float(input(\"Ingrese la nota\" + \" \" + str(contador) + \" = \"))\n",
    "    if (nota >= 0) and ( nota <= 5):\n",
    "        if contador == 1:\n",
    "            promedio = promedio +(nota * p1)\n",
    "        if contador == 2:\n",
    "            promedio = promedio + (nota * p2)\n",
    "        if contador == 3:\n",
    "            promedio = promedio + (nota * p3)\n",
    "        if contador == 4:\n",
    "            promedio = promedio + (nota * p4)\n",
    "        if contador == 5:\n",
    "            promedio = promedio + (nota * p5)\n",
    "        contador += 1\n",
    "if promedio < 2.0:\n",
    "    print(\"Su promedio es de = \" + str(promedio) + \", por esa razón NO puede habilitar.\") \n",
    "else:\n",
    "    if promedio < 3:\n",
    "        print(\"Su promedio es de = \" + str(promedio) + \", por esa razón Reprobó :c.\")\n",
    "    else:\n",
    "        if (promedio >= 3) and (promedio <= 4.5) :\n",
    "            print(\"Su promedio es de = \" + str(promedio) + \", por esa razón ¡Aprobó!.\")\n",
    "        else:\n",
    "            if promedio > 4.5:\n",
    "                print(\"Su promedio es de = \" + str(promedio) + \", por esa razón... ¡Aprobó! Felicitaciones... Never Give Up! :D\")"
   ]
  },
  {
   "cell_type": "markdown",
   "metadata": {},
   "source": [
    "**28. Escribe un algoritmo o el respectivo diagrama de flujo que lea dos números y determine el mayor de ellos.**"
   ]
  },
  {
   "cell_type": "code",
   "execution_count": null,
   "metadata": {},
   "outputs": [],
   "source": [
    "#Definir variables\n",
    "number1 = float(input(\"Ingrese el primer número = \"))\n",
    "number2 = float(input(\"Ingrese el segundo número =\"))\n",
    "#Proceso\n",
    "if number1 > number2:\n",
    "    print(str(number1) + \" \" + \"es mayor que\" + \" \" + str(number2))\n",
    "else:\n",
    "    print(str(number2) + \" \" + \"es mayor que\" + \" \" + str(number1))"
   ]
  },
  {
   "cell_type": "markdown",
   "metadata": {},
   "source": [
    "**29. Escribe un algoritmo o el respectivo diagrama de flujo que lea un número y lo convierta a decimal.**"
   ]
  },
  {
   "cell_type": "code",
   "execution_count": null,
   "metadata": {},
   "outputs": [],
   "source": [
    "#Definir variables\n",
    "number = int(input(\"Ingrese el número que desea convertir a decimal = \"))\n",
    "#Proceso\n",
    "decimal = float(number)\n",
    "print(\"El número con cifras decimales es = \", decimal)"
   ]
  },
  {
   "cell_type": "markdown",
   "metadata": {},
   "source": [
    "**30. Escribe un algoritmo o el respectivo diagrama de flujo que lea tres números y determine el mayor y el menor de ellos.**"
   ]
  },
  {
   "cell_type": "code",
   "execution_count": null,
   "metadata": {},
   "outputs": [],
   "source": [
    "#Definir variables\n",
    "number1 = float(input(\"Ingrese el primer número = \"))\n",
    "number2 = float(input(\"Ingrese el segundo número = \"))\n",
    "number3 = float(input(\"Ingrese el tercer número = \"))\n",
    "#Proceso\n",
    "if (number1 > number2) and (number1 > number3) and (number2 > number3):\n",
    "    print(\"El número mayor es = \" + str(number1) + \" y el número menor es = \" + str(number3) + \"\\n\")\n",
    "else:\n",
    "    if (number1 > number2) and (number1 > number3) and (number3 > number2):\n",
    "        print(\"El número mayor es = \" + str(number1) + \" y el número menor es = \" + str(number2) + \"\\n\")\n",
    "    else:\n",
    "        if (number2 > number1) and (number2 > number3) and (number1 > number3):\n",
    "            print(\"El número mayor es = \" + str(number2) + \" y el número menor es = \" + str(number3) + \"\\n\")\n",
    "        else:\n",
    "            if (number2 > number1) and (number2 > number3) and (number3 > number1):\n",
    "                print(\"El número mayor es = \" + str(number2) + \" y el número menor es = \" + str(number1) + \"\\n\")\n",
    "            else:\n",
    "                if (number3 > number1) and (number3 > number2) and (number2 > number1):\n",
    "                    print(\"El número mayor es = \" + str(number3) + \" y el número menor es = \" + str(number1) + \"\\n\")\n",
    "                else:\n",
    "                    if (number3 > number1) and (number3 > number2) and (number1 > number2):\n",
    "                        print(\"El número mayor es = \" + str(number3) + \" y el número menor es = \" + str(number2) + \"\\n\")\n",
    "print(\"El programa finalizó con exitosamente\" + \"\\n\")"
   ]
  },
  {
   "cell_type": "markdown",
   "metadata": {},
   "source": [
    "**31.\tEscribe un algoritmo o el respectivo diagrama de flujo que lea tres números y determine si la suma del primero y el segundo es mayor o menor que el tercero.**"
   ]
  },
  {
   "cell_type": "code",
   "execution_count": null,
   "metadata": {},
   "outputs": [],
   "source": [
    "#Definir variables\n",
    "number1 = float(input(\"Ingrese el primer número = \"))\n",
    "number2 = float(input(\"Ingrese el segundo número = \"))\n",
    "number3 = float(input(\"Ingrese el tercer valor = \"))\n",
    "#Proceso\n",
    "total = number1 + number2\n",
    "if total > number3:\n",
    "    print(\"La suma de los dos primero números es mayor que el tercer número ingresado, la suma total es = \" , total)\n",
    "else:\n",
    "    if total < number3:\n",
    "        print(\"La suma de los dos primero números es menor que el tercer número ingresado, la suma total es = \" , total)\n",
    "    else:\n",
    "        if total == number3:\n",
    "            print(\"La suma de los dos primero números es igual al tercer número ingresado, la suma total es = \" , total)"
   ]
  },
  {
   "cell_type": "markdown",
   "metadata": {},
   "source": [
    "**32. Escribe un algoritmo o el respectivo diagrama de flujo que determine el valor de un pasaje en avión, conociendo la distancia a recorrer, el número de días de estancia, y sabiendo que, si la distancia a recorrer es superior a 1000 Km y el número de días de estancia es superior a 7, la línea aérea le hace un descuento del 15%. (el precio por km. es de $5.000 aunque el mínimo a cobrar siempre es $100.000).**"
   ]
  },
  {
   "cell_type": "code",
   "execution_count": null,
   "metadata": {},
   "outputs": [],
   "source": [
    "#Definir variables\n",
    "distancia = int(input(\"Ingrese la distancia que se recorrió = \"))\n",
    "dias = int(input(\"Ingrese el número de días de estancia = \"))\n",
    "km = 5000 #Mínimo a cobrar 100.000\n",
    "#Procesos\n",
    "total = (distancia * 5000)\n",
    "if (distancia < 1000) and (dias < 7):\n",
    "    print(\"El valor del pasaje es = $\" + str(total) + \" \" + \"y su estancia fue de\" + \" \" + str(dias) +  \" \" + \"días\")\n",
    "else:\n",
    "    if (distancia > 1000) and (dias > 7):\n",
    "        total = total - (total * 0.15)\n",
    "        print(\"Le valor del pasa es = $\" + str(total) + \" (con descuento del 15%) \" +  \"y su estancia fue de\" + \" \" + str(dias) + \" \" + \"dias.\")"
   ]
  },
  {
   "cell_type": "markdown",
   "metadata": {},
   "source": [
    "**33.\tEscribe un algoritmo o el respectivo diagrama de flujo que permita determinar si un año dado es o no bisiesto.**"
   ]
  },
  {
   "cell_type": "code",
   "execution_count": null,
   "metadata": {},
   "outputs": [],
   "source": [
    "#Definir variables\n",
    "anio = int(input(\"Ingrese el año  = \"))\n",
    "#Proceso\n",
    "if anio % 4 != 0: \n",
    "    print(\"El año\" + \" \"+ str(anio) + \" \" + \"no es un año bisiesto\")\n",
    "elif (anio % 4 == 0 )  and (anio % 100 != 0): #No es divisible entre 100 y 400\n",
    "    print(\"El año\" + \" \" +str(anio) + \" \" + \"es bisiesto\")\n",
    "elif (anio % 4 == 0) and ( anio % 100 == 0) and (anio % 400 !=0): #Divisible entre 4 y 100 pero no entre 400\n",
    "    print(\"El año\" + \" \" +str(anio) + \" \" + \"no es un año bisiesto\")\n",
    "elif (anio % 4 == 0) and (anio % 100 == 0) and (anio % 400 == 0):\n",
    "    print(\"El año\" + \" \" + str(anio) + \" \" + \"es bisiesto\")"
   ]
  },
  {
   "cell_type": "markdown",
   "metadata": {},
   "source": [
    "**34. Escribe un algoritmo o el respectivo diagrama de flujo que permita resolver una ecuación cuadrática de tipo ax2 + bx + c (tenga en cuenta las todas las raíces, tanto las reales como las complejas).**"
   ]
  },
  {
   "cell_type": "code",
   "execution_count": null,
   "metadata": {},
   "outputs": [],
   "source": [
    "#Definir variables\n",
    "a = float(input(\"Ingrese el número de a = \"))\n",
    "b = float(input(\"Ingrese el número de b = \"))\n",
    "c = float(input(\"Ingrese el número de c = \"))\n",
    "#Definir proceso\n",
    "discriminante = (b ** 2 ) - 4 * a * c\n",
    "if discriminante < 0:\n",
    "    print(\"La ecuación no tiene soluciones reales\")\n",
    "elif discriminante == 0:\n",
    "    x = -b / (2*a)\n",
    "    print(\"La solución es = \", x)\n",
    "else:\n",
    "    x1 = (-b - (discriminante ** 0.5)) / (2 * a)\n",
    "    x2 = (-b + (discriminante ** 0.5)) / (2 * a)\n",
    "    print(\"Las dos soluciones reales son = \" + str(x1) + \" y \" + str(x2))"
   ]
  },
  {
   "cell_type": "markdown",
   "metadata": {},
   "source": [
    "**35. Escribe un algoritmo o el respectivo diagrama de flujo que, dado un usuario y una contraseña predefinida (por ejemplo usuario=”carlos\" y contraseña=”1234”, le permita a un usuario digital su usuario y contraseña y enviar un mensaje de inicio de sesión si lo digitado corresponde al usuario y contraseña predefinida.**"
   ]
  },
  {
   "cell_type": "code",
   "execution_count": null,
   "metadata": {},
   "outputs": [],
   "source": [
    "#Definir acumuladores y variables\n",
    "nombre = 0\n",
    "contra = 0\n",
    "pregunta = input(\"¿Quieres registrarte? si o no = \")\n",
    "if pregunta == \"si\": #Procesos - condicionales\n",
    "    name = input(\"Ingrese un nombre de usuario = \")\n",
    "    password = input(\"Ingrese una contraseña = \")\n",
    "    print(\"Se ha registrado correctamente\")\n",
    "else:\n",
    "    if pregunta == \"no\":\n",
    "        print(\"Finish.\")\n",
    "entrar = \"si\"\n",
    "while entrar == \"si\": #Procesos - Ciclo para pedir de nuevo los datos si son incorrectos\n",
    "    entrar = input(\"¿Desea Iniciar Sesión? si o no = \")\n",
    "    if entrar == \"si\":\n",
    "        nombre = input(\" Usuario = \")\n",
    "        contra = input(\" Contraseña = \")\n",
    "        if (nombre == name) and (contra == password):\n",
    "            print(\"Se ha iniciado exitosamente, en unos segundos será redirigido a la página principal.\")\n",
    "            break\n",
    "        else:\n",
    "            if nombre != name:\n",
    "                print(\"Nombre Incorrecto.\")\n",
    "            else:\n",
    "                if contra != password:\n",
    "                    print(\"Contraseña incorrrecta.\")\n",
    "                else:\n",
    "                    if (nombre != name) and (contra != password): \n",
    "                        print(\"Ambos datos ingresados son incorrectos.\")\n",
    "    else:\n",
    "        print(\"Finished.\")"
   ]
  },
  {
   "cell_type": "markdown",
   "metadata": {},
   "source": [
    "**36.\tEscribe un algoritmo o el respectivo diagrama de flujo que dado un número entre 0 y 10, imprima el nombre del número. Ejemplo: 1 ---> UNO.**"
   ]
  },
  {
   "cell_type": "code",
   "execution_count": null,
   "metadata": {},
   "outputs": [],
   "source": [
    "#Definir variables y listas\n",
    "number = int(input(\"Ingrese un número entre 0 y 10 = \"))\n",
    "nombreNumber = ['Cero', 'Uno', 'Dos', 'Tres', 'Cuatro', 'Cinco', 'Seis', 'Siete', 'Ocho','Nueve', 'Diez']\n",
    "print(\"El nombre del número\" + \" \" + str(number) + \" \" + \"es = \" + str(nombreNumber[number]))"
   ]
  },
  {
   "cell_type": "markdown",
   "metadata": {},
   "source": [
    "**37. Escribe un algoritmo o el respectivo diagrama de flujo que dado un número menor a un 100.000 determine la cantidad de dígitos que tiene. Por ejemplo 1093 tiene 4 dígitos.**"
   ]
  },
  {
   "cell_type": "code",
   "execution_count": null,
   "metadata": {},
   "outputs": [],
   "source": [
    "#Definir variables\n",
    "number = int(input(\"Ingrese un número menor a 100000 = \")) # Definir Entrada\n",
    "contador = 0\n",
    "while number != 0:\n",
    "    number = number // 10\n",
    "    contador += 1\n",
    "print(\"La cantidad de dígitos del número ingresado son = \" + str(contador) + \" \" + \"dígitos\") "
   ]
  },
  {
   "cell_type": "markdown",
   "metadata": {},
   "source": [
    "**38. Escribe un algoritmo o el respectivo diagrama de flujo que dados 3 números, determine si los números se están incrementando, disminuyendo o ninguno de lo anterior de acuerdo con el orden de digitación. Por ejemplo: 1 , 4, 19 --> está incrementando  ;  33, 10 ,1 --> está disminuyendo;   3 , 18 , 10 --> Ni se incrementa ni se disminuyendo.**"
   ]
  },
  {
   "cell_type": "code",
   "execution_count": null,
   "metadata": {},
   "outputs": [],
   "source": [
    "line = input( \"Ingrese los tres número = \").split()\n",
    "n1 = int(line[0])\n",
    "n2 = int(line[1])\n",
    "n3 = int(line[2])\n",
    "if (n1 > n2) and (n2 > n3):\n",
    "    print(\"Está Disminuyendo.\")\n",
    "else:\n",
    "    if (n1 < n2) and (n2 < n3):\n",
    "        print(\"Está incrementando.\")\n",
    "    else:\n",
    "        print(\"No se incrementa ni se disminuye.\")"
   ]
  },
  {
   "cell_type": "markdown",
   "metadata": {},
   "source": [
    "**39. Escribe un algoritmo o el respectivo diagrama de flujo que, dados dos números, verifique si ambos están entre 0 y 5 o retorne false sino es cierto. Por ejemplo 1 y 2 ---> true ; 1 y 8 ---> false.**"
   ]
  },
  {
   "cell_type": "code",
   "execution_count": null,
   "metadata": {},
   "outputs": [],
   "source": [
    "mas = \"true\"\n",
    "while mas == \"true\": #Se establece un bucle\n",
    "    numero1 = int(input(\"Ingrese el primer número = \"))\n",
    "    numero2 = int(input(\"Ingrese el segundo número = \"))\n",
    "    if (numero1 >= 0 and numero1 <= 5) and (numero2 >= 0 and numero2 <= 5):\n",
    "        print(\"Los números\" + \" \" + str(numero1) + \" y \" + str(numero2) + \" \" + \"sí están en el rango.\")\n",
    "    else:\n",
    "        print(\"Los números\" + \" \" +  str(numero1) + \" y \" + str(numero2) + \" = False\")"
   ]
  },
  {
   "cell_type": "markdown",
   "metadata": {},
   "source": [
    "**40.\tEscribe un algoritmo o el respectivo diagrama de flujo que lea un número del día de la semana (entre 1 y 7) e indique el nombre del día. Por ejemplo:  1 ---> Lunes ; 5 ---> Viernes.**"
   ]
  },
  {
   "cell_type": "code",
   "execution_count": null,
   "metadata": {},
   "outputs": [],
   "source": [
    "nombreDias = ['None','Lunes','Martes','Miércoles','Jueves','Viernes','Festivo','Festivo'] #lista para determinar el día\n",
    "number = int(input(\"Ingrese el el número de la semana para conocer el nombre del día = \")) #Definir entrada\n",
    "print(\"El nombre del día número\" + \" \" +str(number) + \" es = \" + str(nombreDias[number]))  "
   ]
  },
  {
   "cell_type": "markdown",
   "metadata": {},
   "source": [
    "**41.\tEscribe un algoritmo o el respectivo diagrama de flujo que lea 3 números e indique si al menos 2 de ellos son iguales.**"
   ]
  },
  {
   "cell_type": "code",
   "execution_count": null,
   "metadata": {},
   "outputs": [],
   "source": [
    "number1 = int(input(\"Ingrese el primer número = \")) #Definir entradas\n",
    "number2 = int(input(\"Ingrese el segundo número = \"))\n",
    "number3 = int(input(\"Ingrese el tercer número = \"))\n",
    "if (number1 == number2) or (number1 == number3) or (number2 == number1) or (number2 == number3): #Establecer condiciones\n",
    "    print(\"Al menos 2 de los número ingresados son iguales.\")\n",
    "else:\n",
    "    if (number1 != number2) or (number1 != number3) or (number2 != number1) or (number2 != number3):\n",
    "        print(\"No hay al menos 2 número iguales.\")"
   ]
  },
  {
   "cell_type": "markdown",
   "metadata": {},
   "source": [
    "**42. Escribe un algoritmo o el respectivo diagrama de flujo que imprima los 10 primero números naturales.**"
   ]
  },
  {
   "cell_type": "code",
   "execution_count": null,
   "metadata": {},
   "outputs": [],
   "source": [
    "for i in range(11):\n",
    "    print(\"Los primero números naturales son = \", i)"
   ]
  },
  {
   "cell_type": "markdown",
   "metadata": {},
   "source": [
    "**43. Escribe un algoritmo o el respectivo diagrama de flujo que imprima los primeros 10 números naturales impares.**"
   ]
  },
  {
   "cell_type": "code",
   "execution_count": null,
   "metadata": {},
   "outputs": [],
   "source": [
    "for i in range(1,20):\n",
    "    if i % 2 != 0:\n",
    "        print(\"Los primeros 10 número impares = \", i)"
   ]
  },
  {
   "cell_type": "markdown",
   "metadata": {},
   "source": [
    "**44.\tEscribe un algoritmo o el respectivo diagrama de flujo que imprima los primeros 10 números naturales pares.**"
   ]
  },
  {
   "cell_type": "code",
   "execution_count": null,
   "metadata": {},
   "outputs": [],
   "source": [
    "for i in range(1,21):\n",
    "    if i % 2 == 0:\n",
    "        print(\"Los primero 10 número pares son = \", i)"
   ]
  },
  {
   "cell_type": "markdown",
   "metadata": {},
   "source": [
    "**45. Escribe un algoritmo o el respectivo diagrama de flujo que imprima los n primeros números naturales.**"
   ]
  },
  {
   "cell_type": "code",
   "execution_count": null,
   "metadata": {},
   "outputs": [],
   "source": [
    "n = int(input(\"Ingrese un número = \"))\n",
    "for i in range(n):\n",
    "    print(\"Los primeros números naturales del número ingresado son = \", i)"
   ]
  },
  {
   "cell_type": "markdown",
   "metadata": {},
   "source": [
    "**46.\tEscribe un algoritmo o el respectivo diagrama de flujo que dado un número n, imprima los números entre 1 y n siguiendo la siguiente secuencia: 1   -2   3  -4   5  -6 …**"
   ]
  },
  {
   "cell_type": "code",
   "execution_count": null,
   "metadata": {},
   "outputs": [],
   "source": [
    "numero=int(input(\"Ingrese un numero límte = \"))\n",
    "lista_Positivos = []\n",
    "lista_Negativos = []\n",
    "for n in range(1,numero,2):\n",
    "    lista_Positivos.append(n)\n",
    "for i in range(0,numero,2):\n",
    "    lista_Negativos.append(-i)\n",
    "unir = tuple(zip(lista_Negativos, lista_Positivos))\n",
    "print(\"La secuencia de números es =\", unir)"
   ]
  },
  {
   "cell_type": "markdown",
   "metadata": {},
   "source": [
    "**47. Escribe un algoritmo o el respectivo diagrama de flujo que imprima los números naturales contenidos entre dos números n y m (verificar que m>n).**"
   ]
  },
  {
   "cell_type": "code",
   "execution_count": null,
   "metadata": {},
   "outputs": [],
   "source": [
    "number1 = int(input(\"Ingrese el primer número = \"))\n",
    "number2 = int(input(\"Ingrese el segundo número = \"))\n",
    "if number2 > number1:\n",
    "    for i in range(number1,number2):\n",
    "        print(\"Los números naturales que hay entre los números ingresados son =\" + \" \" +  str(i))\n",
    "else:\n",
    "    print(\"El segundo número debe ser mayor que el primero porque es el límite.\")"
   ]
  },
  {
   "cell_type": "markdown",
   "metadata": {},
   "source": [
    "**48. Escribe un algoritmo o el respectivo diagrama de flujo que determine la suma de los números naturales contenidos entre dos números n y m (verificar que m>n)**"
   ]
  },
  {
   "cell_type": "code",
   "execution_count": null,
   "metadata": {},
   "outputs": [],
   "source": [
    "suma = 0\n",
    "number1 = int(input(\"Ingrese el primer número = \"))\n",
    "number2 = int(input(\"Ingrese el segundo número = \"))\n",
    "if number2 > number1:\n",
    "    for i in range(number1,number2):\n",
    "        suma = suma + i\n",
    "    print(\"La suma de los números naturales que hay entre los dos números ingresados es = \", suma)\n",
    "else:\n",
    "    print(\"El segundo número debe ser mayor que el primero porque es el límite.\")"
   ]
  },
  {
   "cell_type": "markdown",
   "metadata": {},
   "source": [
    "**49.\tEscribe un algoritmo o el respectivo diagrama de flujo que lea 10 números y calcule su suma y su promedio.**"
   ]
  },
  {
   "cell_type": "code",
   "execution_count": null,
   "metadata": {},
   "outputs": [],
   "source": [
    "contador = 1\n",
    "suma = 0\n",
    "while contador <= 10: #Ciclo\n",
    "    number = int(input(\"Ingrese la nota\" + \" \" + str(contador) + \" = \"))\n",
    "    if contador == 1:\n",
    "        suma += number\n",
    "    if contador == 2:\n",
    "        suma += number\n",
    "    if contador == 3:\n",
    "        suma += number\n",
    "    if contador == 4:\n",
    "        suma += number\n",
    "    if contador == 5:\n",
    "        suma += number\n",
    "    if contador == 6:\n",
    "        suma += number\n",
    "    if contador == 7:\n",
    "        suma += number\n",
    "    if contador == 8:\n",
    "        suma += number\n",
    "    if contador == 9:\n",
    "        suma += number\n",
    "    if contador == 10:\n",
    "        suma += number\n",
    "    contador += 1\n",
    "print(\"El promedio de las notas es =\" + \" \" +str(suma/10))"
   ]
  },
  {
   "cell_type": "markdown",
   "metadata": {},
   "source": [
    "**50.\tEscribe un algoritmo o el respectivo diagrama de flujo que lea n números y calcule su suma y su promedio.**"
   ]
  },
  {
   "cell_type": "code",
   "execution_count": null,
   "metadata": {},
   "outputs": [],
   "source": [
    "suma = 0\n",
    "contador = 0\n",
    "promedio = 0\n",
    "mas = \"true\"\n",
    "while mas == \"true\": #Bucle para volver a pedir notas hasta que el usuario lo desee\n",
    "    nota2 = float(input(\"Ingrese la nota = \"))\n",
    "    if nota2 > 0:\n",
    "        suma = suma + nota2\n",
    "        contador+= 1\n",
    "    mas = str(input(\"¿Quieres ingresar más notas? true o false = \"))\n",
    "    if mas == \"false\":\n",
    "        break\n",
    "print(\"El promedio de notas es = \" + \" \"+ str(suma/contador))"
   ]
  },
  {
   "cell_type": "markdown",
   "metadata": {},
   "source": [
    "**51. Escribe un algoritmo o el respectivo diagrama de flujo para leer una cantidad variable de números e indicar el promedio de los números pares y el promedio de los números impares.**"
   ]
  },
  {
   "cell_type": "code",
   "execution_count": null,
   "metadata": {},
   "outputs": [],
   "source": [
    "contador1 = 0\n",
    "suma1 = 0\n",
    "contador2 = 0\n",
    "suma2 = 0\n",
    "contador3 = 1\n",
    "mas = \"si\"\n",
    "while mas == \"si\": #Bucle para que itere hasta que el usuario lo desee\n",
    "    number = int(input(\"Ingrese un número # \" + str(contador3) + \" = \"))\n",
    "    mas = str(input(\"¿Quieres ingresar más números? si o no = \"))\n",
    "    if mas == \"si\":\n",
    "        if number % 2 == 0:\n",
    "            suma1 = suma1 + number\n",
    "            contador1 += 1\n",
    "        else:\n",
    "            suma2 =  suma2 + number\n",
    "            contador2 += 1\n",
    "        contador3 += 1\n",
    "promedioPar = suma1 / contador1\n",
    "promedioImpar = suma2 / contador2\n",
    "print(\"El promedio de los números pares es = \" + \" \" + str(promedioPar) + \" y \" + \"el promedio de los números impares es = \" + \" \" + str(promedioImpar))"
   ]
  },
  {
   "cell_type": "markdown",
   "metadata": {},
   "source": [
    "**52. Construye un algoritmo y el respectivo diagrama de flujo que le solicite al usuario un número entero positivo, si el usuario digita un valor no permito, le debe volver a pedir el número. Una vez ingrese un valor válido deberá imprimir dicho valor.**"
   ]
  },
  {
   "cell_type": "code",
   "execution_count": null,
   "metadata": {},
   "outputs": [],
   "source": [
    "agregar = \"si\"\n",
    "while agregar == \"si\":\n",
    "    number = int(input(\"Ingrese un número = \"))\n",
    "    if number > 0:\n",
    "        print(\"El número ingresado es = \", number)\n",
    "        break\n",
    "    else:\n",
    "        print(\"No se pueden ingresar número negativos, vuélvalo a intentar\")"
   ]
  },
  {
   "cell_type": "markdown",
   "metadata": {},
   "source": [
    "**53.\tConstruye un algoritmo y el respectivo diagrama de flujo que permita leer una cantidad variable de números y nos indique cuantos fueron mayores a 100 y cuántos menores a 100.**"
   ]
  },
  {
   "cell_type": "code",
   "execution_count": null,
   "metadata": {},
   "outputs": [],
   "source": [
    "contador = 1\n",
    "contador2 = 0\n",
    "contador3 = 0\n",
    "menores = []\n",
    "mayores = []\n",
    "agregar = \"si\"\n",
    "while agregar == \"si\":\n",
    "    number = int(input(\"Ingrese un número \" + \" \" + str(contador) + \" = \"))\n",
    "    agregar = str(input(\"¿Quieres ingresar otro número? si o no = \"))\n",
    "    if number > 100:\n",
    "        mayores.append(number)\n",
    "        contador2 += 1\n",
    "    else:\n",
    "        if number < 100:\n",
    "            menores.append(number)\n",
    "            contador3 += 1\n",
    "    contador += 1\n",
    "    if agregar == \"no\":\n",
    "        break\n",
    "print(\"Hay\" + \" \" + str(contador3) + \" \" + \"números menores a 100 y estos son = \" + str(menores))\n",
    "print(\"Hay\" + \" \" + str(contador2) + \" \" + \"números mayores a 100 y estos son = \" + str(mayores))"
   ]
  },
  {
   "cell_type": "markdown",
   "metadata": {},
   "source": [
    "54.\tConstruye un algoritmo y el respectivo diagrama de flujo que permita leer una cantidad variable de números indicando finalmente lo siguiente:\n",
    "+ cuántos números fueron positivos\n",
    "+ cuántos fueron negativos\n",
    "+ cuantos fueron pares\n",
    "+ cuantos fueron impares\n",
    "+ cuántos fueron múltiplos de ocho"
   ]
  },
  {
   "cell_type": "code",
   "execution_count": null,
   "metadata": {},
   "outputs": [],
   "source": [
    "contador = 1\n",
    "contador2 = 0\n",
    "contador3 = 0\n",
    "contador4 = 0\n",
    "contador5 = 0\n",
    "negativos = []\n",
    "pares = []\n",
    "impares = []\n",
    "mOcho = []\n",
    "agregar = \"si\"\n",
    "while agregar == \"si\":\n",
    "    number = int(input(\"Ingrese un número \" + \" \" + str(contador) + \" = \"))\n",
    "    agregar = str(input(\"¿Quieres ingresar otro número? si o no = \"))\n",
    "    if number < 0:\n",
    "        negativos.append(number)\n",
    "        contador2 += 1\n",
    "    else:\n",
    "        if (number % 2 == 0) and (number // 8 != 0):\n",
    "            pares.append(number)\n",
    "            contador3 += 1\n",
    "            mOcho.append(number)\n",
    "            contador5 += 1\n",
    "        else:\n",
    "            if number % 2 != 0:\n",
    "                impares.append(number)\n",
    "                contador4 += 1\n",
    "    contador += 1\n",
    "    if agregar == \"no\":\n",
    "        break\n",
    "print(\"Hay\" + \" \" + str(contador2) + \" \" + \"números negativos y esos son =\" + str(negativos))\n",
    "print(\"Hay\" + \" \" + str(contador3) + \" \" + \"números pares y esos son =\" + str(pares))\n",
    "print(\"Hay\" + \" \" + str(contador5) + \" \" + \"números múltiplos de ocho y esos son =\" + str(mOcho))\n",
    "print(\"Hay\" + \" \" + str(contador4) + \" \" + \"números impares y esos son =\" + str(impares))"
   ]
  },
  {
   "cell_type": "markdown",
   "metadata": {},
   "source": [
    "**55.\tConstruye un algoritmo y el respectivo diagrama de flujo que permita leer sólo números positivos hasta reunir 10 números pares o veinte veces el número 5. Indicar luego la totalidad de números leídos, la cantidad de pares, de impares y la cantidad de números 5.**"
   ]
  },
  {
   "cell_type": "code",
   "execution_count": null,
   "metadata": {},
   "outputs": [],
   "source": [
    "contador = 0\n",
    "contadorPar = 0\n",
    "contadorImpar = 0\n",
    "contadorCinco = 0\n",
    "agregar = \"si\"\n",
    "while agregar == \"si\":\n",
    "    number = int(input(\"Ingrese un número para calcular los 10 números pares(se puede ingresar varias veces el 5) \"+ \" \" + str(contador) + \" = \"))\n",
    "    if number % 2 == 0:\n",
    "        contadorPar += 1\n",
    "    else:\n",
    "        if number == 5:\n",
    "            contadorCinco += 1\n",
    "        else:\n",
    "            if number % 2 != 0:\n",
    "                contadorImpar += 1\n",
    "    contador += 1\n",
    "    if contadorPar == 10:\n",
    "        break\n",
    "    if contadorCinco == 20:\n",
    "        break\n",
    "print(\"Hay\" + \" \" + str(contador) + \" \" + \" números en total.\" + \"\\n\" + \"Hay\" + \" \" + str(contadorPar) + \" \" + \"números pares.\" + \"\\n\" + \"Hay\" + \" \" + str(contadorImpar) + \" \" + \"números impares.\" + \"\\n\" + \"Hay\" + \" \"+ str(contadorCinco) + \" \" + \"números 5.\")"
   ]
  },
  {
   "cell_type": "markdown",
   "metadata": {},
   "source": [
    "**56.\tEscribe un algoritmo o el respectivo diagrama de flujo que dado un número determine la cantidad de números entre los cuales se puede dividir es decir sus factores.**"
   ]
  },
  {
   "cell_type": "code",
   "execution_count": null,
   "metadata": {},
   "outputs": [],
   "source": [
    "number1 = []\n",
    "agregar = \"si\"\n",
    "while agregar == \"si\":\n",
    "    number = int(input(\"Ingrese un número = \"))\n",
    "    for i in range (1,number + 1):\n",
    "        if number % i == 0:\n",
    "            number1.append(i)\n",
    "    print(\"Los divisores de\" + \" \" + str(number) + \" \" + \" son = \" + str(number1))\n",
    "    agregar = str(input(\"¿Quieres ingresar un nuevo número? si o no =  \"))\n",
    "    if agregar == \"no\":\n",
    "        break\n",
    "print(\"El programa ha finalizado.\")"
   ]
  },
  {
   "cell_type": "markdown",
   "metadata": {},
   "source": [
    "**57. Escribe un algoritmo o el respectivo diagrama de flujo que determine la inversa de una cadena (consejo: utilizar índices).**"
   ]
  },
  {
   "cell_type": "code",
   "execution_count": null,
   "metadata": {},
   "outputs": [],
   "source": [
    "cadena = input(\"Ingrese una oración para mostrarla a la inversa = \")\n",
    "for i in reversed(cadena):\n",
    "    print(\"La cadena a la inversa es = \",i)"
   ]
  },
  {
   "cell_type": "markdown",
   "metadata": {},
   "source": [
    "58.\tEscribe un algoritmo o el respectivo diagrama de flujo que imprima el siguiente patrón:  \n",
    "\n",
    "1\n",
    "12                                                                               \n",
    "123                                                                              \n",
    "1234                                                                             \n",
    "12345                                                                            \n",
    "123456                                                                           \n",
    "1234567                                                                          \n",
    "12345678                                                                         \n",
    "123456789                                                                        "
   ]
  },
  {
   "cell_type": "code",
   "execution_count": null,
   "metadata": {},
   "outputs": [],
   "source": [
    "for i in range(1,10+1):\n",
    "    for j in range(1,i+1):\n",
    "        print(j, end=\" \")\n",
    "    print(\" \")"
   ]
  },
  {
   "cell_type": "markdown",
   "metadata": {},
   "source": [
    "**59.https://codeforces.com/problemset/problem/630/A**"
   ]
  },
  {
   "cell_type": "code",
   "execution_count": null,
   "metadata": {},
   "outputs": [],
   "source": [
    "b=int(input())\n",
    "resultado2=pow(5,b,100)\n",
    "print(resultado2)"
   ]
  },
  {
   "cell_type": "markdown",
   "metadata": {},
   "source": [
    "**60.\thttps://codeforces.com/problemset/problem/4/A**"
   ]
  },
  {
   "cell_type": "code",
   "execution_count": null,
   "metadata": {},
   "outputs": [],
   "source": [
    "n=float(input())\n",
    "f=n/2\n",
    "f1=n/3\n",
    "f2=n/5\n",
    "f3=n/7\n",
    "if f%2==0 or f1%2==0 or f2%2==0 or f3%2==0:\n",
    "    print(\"YES\")\n",
    "else:\n",
    "    print(\"NO\")"
   ]
  },
  {
   "cell_type": "markdown",
   "metadata": {},
   "source": [
    "**61.https://codeforces.com/problemset/problem/71/A**"
   ]
  },
  {
   "cell_type": "code",
   "execution_count": null,
   "metadata": {},
   "outputs": [],
   "source": [
    "n = int(input())\n",
    "for i in range(0,n):\n",
    "    x=str(input())\n",
    "    y=len(x)\n",
    "    if y > 10:\n",
    "        print(x[0], end='')\n",
    "        print(y-2, end='')\n",
    "        print(x[y-1])\n",
    "    else:\n",
    "        print(x)"
   ]
  },
  {
   "cell_type": "markdown",
   "metadata": {},
   "source": [
    "**62.\thttps://codeforces.com/problemset/problem/281/A**"
   ]
  },
  {
   "cell_type": "code",
   "execution_count": null,
   "metadata": {},
   "outputs": [],
   "source": [
    "word = input()\n",
    "cap = word[0]\n",
    "print(word.replace(cap, cap.upper(), 1))"
   ]
  },
  {
   "cell_type": "markdown",
   "metadata": {},
   "source": [
    "**63.\thttps://codeforces.com/problemset/problem/59/A**"
   ]
  },
  {
   "cell_type": "code",
   "execution_count": null,
   "metadata": {},
   "outputs": [],
   "source": [
    "a = str(input())\n",
    "b= 0\n",
    "for i in a:\n",
    "    if(i.isupper()): \n",
    "        b = b+1\n",
    "c = len(a)\n",
    "d = c-b\n",
    "if(d>=b):\n",
    "    a = a.lower()\n",
    "else:\n",
    "    a = a.upper()\n",
    "print (a)"
   ]
  },
  {
   "cell_type": "markdown",
   "metadata": {},
   "source": [
    "**64.\thttps://codeforces.com/problemset/problem/617/A**"
   ]
  },
  {
   "cell_type": "code",
   "execution_count": null,
   "metadata": {},
   "outputs": [],
   "source": [
    "ContP = 0\n",
    "Pisadas = int(input())\n",
    "if Pisadas <= 5:\n",
    "    print( 1)\n",
    "elif Pisadas > 5:\n",
    "    while Pisadas > 0:\n",
    "        Pisadas = Pisadas - 5\n",
    "        ContP = ContP + 1 \n",
    "    print(ContP)"
   ]
  },
  {
   "cell_type": "markdown",
   "metadata": {},
   "source": [
    "**65.\tHaga un algoritmo para sumar matrices.**"
   ]
  },
  {
   "cell_type": "code",
   "execution_count": null,
   "metadata": {},
   "outputs": [],
   "source": [
    "matriz = [[1,2,4], [8,9,7], [10,15,90], [21,100,-3]]\n",
    "matriz2 = [[9,18,15], [81,12,21], [10,15,21], [1,0,5]]\n",
    "#Matriz 1\n",
    "print(\"MATRIZ 1 = \")\n",
    "for i in range(len(matriz)):\n",
    "    for j in range(len(matriz[i])):\n",
    "        print(matriz[i][j], end=\"\\t\")\n",
    "    print(\"\")\n",
    "#Matriz 2\n",
    "print(\"MATRIZ 2 = \")\n",
    "for i in range(len(matriz2)):\n",
    "    for j in range(len(matriz2[i])):\n",
    "        print(matriz2[i][j], end=\"\\t\")\n",
    "    print(\"\")\n",
    "#Resultado de la suma\n",
    "print(\"RESULTADO =\")\n",
    "for i in range(len(matriz)):\n",
    "    for j in range(len(matriz2[i])):\n",
    "        valor = matriz[i][j] + matriz2[i][j]\n",
    "        print(valor, end=\"\\t\")\n",
    "    print(\"\") "
   ]
  },
  {
   "cell_type": "markdown",
   "metadata": {},
   "source": [
    "**68.\tEl usuario Willyrex desea realizar una división entre dos números. Su misión es recibir ambos números y utilizar try/except para interceptar una división por cero (debe mostrar “Madre mía, Willy, no puedes dividir por cero” en caso de error; el resultado en caso de ser exitosa la división).**"
   ]
  },
  {
   "cell_type": "code",
   "execution_count": null,
   "metadata": {},
   "outputs": [],
   "source": [
    "add = \"si\"\n",
    "while add ==\"si\":\n",
    "    try:\n",
    "        number = int(input(\"Ingrese el primer número = \"))\n",
    "        number2 = int(input(\"Ingrese el segundo número = \"))\n",
    "        division = number / number2\n",
    "        print(\"El resultado de la división es = \", division)\n",
    "    except ZeroDivisionError:\n",
    "        print(\"¡Madre mía, Willy, no puedes dividir por!\")\n",
    "    except ValueError:\n",
    "        print(\"Entrada no válida, ingrese los valores de nuevo.\")\n",
    "    add = str(input(\"¿Desea ingresar otro número? si o no = \"))\n",
    "    if add == \"no\":\n",
    "        break"
   ]
  },
  {
   "cell_type": "markdown",
   "metadata": {},
   "source": [
    "**69.\tAbra e imprima una imagen utilizando la librería de su preferencia.**"
   ]
  },
  {
   "cell_type": "code",
   "execution_count": null,
   "metadata": {},
   "outputs": [],
   "source": [
    "from PIL import Image, ImageChops\n",
    "\n",
    "img1 = Image.open('C:/Users/OSCAR/Documents/Edición/Photo1.jpeg')\n",
    "img2 = Image.open('C:/Users/OSCAR/Documents/Edición/Photo2.jpeg')\n",
    "diff = ImageChops.difference(img1, img2)\n",
    "print(diff.getbbox())\n",
    "if diff.getbbox():\n",
    "    diff.show() #LOCAL"
   ]
  },
  {
   "cell_type": "code",
   "execution_count": 11,
   "metadata": {},
   "outputs": [
    {
     "data": {
      "image/png": "[encoded data removed]",
      "text/plain": [
       "<Figure size 432x288 with 2 Axes>"
      ]
     },
     "metadata": {
      "needs_background": "light"
     },
     "output_type": "display_data"
    }
   ],
   "source": [
    "from skimage.color import rgb2gray #Scikit\n",
    "img = data.astronaut() #Import from library\n",
    "img_new = rgb2gray(img)\n",
    "# RGB IMAGE\n",
    "plt.subplot(121), imshow(img)\n",
    "plt.title('RGB Format') \n",
    "#Gray Image\n",
    "plt.subplot(122), imshow(img_new)\n",
    "plt.title('Grayscale Format') \n",
    "#Print\n",
    "plt.show()"
   ]
  }
 ],
 "metadata": {
  "kernelspec": {
   "display_name": "Python 3",
   "language": "python",
   "name": "python3"
  },
  "language_info": {
   "codemirror_mode": {
    "name": "ipython",
    "version": 3
   },
   "file_extension": ".py",
   "mimetype": "text/x-python",
   "name": "python",
   "nbconvert_exporter": "python",
   "pygments_lexer": "ipython3",
   "version": "3.8.5"
  }
 },
 "nbformat": 4,
 "nbformat_minor": 4
}
